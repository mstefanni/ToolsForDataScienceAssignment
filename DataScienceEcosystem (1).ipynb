{
 "cells": [
  {
   "cell_type": "markdown",
   "id": "3e5d2947",
   "metadata": {},
   "source": [
    "# Data Science Tools and Ecosystem"
   ]
  },
  {
   "cell_type": "markdown",
   "id": "3acbf157",
   "metadata": {},
   "source": [
    "# In this notebook, Data Science Tools and Ecosystem are summarized."
   ]
  },
  {
   "cell_type": "markdown",
   "id": "b3c27632",
   "metadata": {},
   "source": [
    "# Objectives:\n",
    "- List popular languages for Data Science\n",
    "- List Data Science Tools\n",
    "- List commonly used libraries for Data Science\n",
    "- Perform simple arithmetic excersises in Juputer Notebook"
   ]
  },
  {
   "cell_type": "markdown",
   "id": "56ec136b",
   "metadata": {},
   "source": [
    "# Some of the popular languages that Data Scientists use are:\n",
    "<ol>\n",
    "<li> Python\n",
    "<li> R\n",
    "<li> SQL\n",
    "<li> Scala\n",
    "<li> Java\n",
    "<li> Julia\n",
    "<li> C++"
   ]
  },
  {
   "cell_type": "markdown",
   "id": "cff7add1",
   "metadata": {},
   "source": [
    "# Some of the commonly used libraries used by Data Scientists include:\n",
    "<ol>\n",
    "<li> Pandas\n",
    "<li> NumPy\n",
    "<li> Matplotlib\n",
    "<li> TensorFlow\n",
    "<li> SciKit-Learn\n",
    "<li> PyTorch\n",
    "<li> Keras"
   ]
  },
  {
   "cell_type": "markdown",
   "id": "754fadaa",
   "metadata": {},
   "source": [
    "| Data Science Tools |\n",
    "| ------------------ |\n",
    "| MATLAB |\n",
    "| Apache Spark |\n",
    "| Watson |"
   ]
  },
  {
   "cell_type": "markdown",
   "id": "9fb6f226",
   "metadata": {},
   "source": [
    "### Below are a few examples of evaluating arithmetic expressions in Python"
   ]
  },
  {
   "cell_type": "code",
   "execution_count": 9,
   "id": "d034083f",
   "metadata": {},
   "outputs": [
    {
     "name": "stdout",
     "output_type": "stream",
     "text": [
      "This a simple arithmetic expression to mutiply then add integers\n"
     ]
    },
    {
     "data": {
      "text/plain": [
       "17"
      ]
     },
     "execution_count": 9,
     "metadata": {},
     "output_type": "execute_result"
    }
   ],
   "source": [
    "print (\"This a simple arithmetic expression to mutiply then add integers\")\n",
    "(3*4)+5"
   ]
  },
  {
   "cell_type": "markdown",
   "id": "5b2c7173",
   "metadata": {},
   "source": [
    "## Author\n",
    "Magdalena Stefanni"
   ]
  },
  {
   "cell_type": "code",
   "execution_count": null,
   "id": "4c63fd43",
   "metadata": {},
   "outputs": [],
   "source": []
  }
 ],
 "metadata": {
  "kernelspec": {
   "display_name": "Python 3 (ipykernel)",
   "language": "python",
   "name": "python3"
  },
  "language_info": {
   "codemirror_mode": {
    "name": "ipython",
    "version": 3
   },
   "file_extension": ".py",
   "mimetype": "text/x-python",
   "name": "python",
   "nbconvert_exporter": "python",
   "pygments_lexer": "ipython3",
   "version": "3.10.9"
  }
 },
 "nbformat": 4,
 "nbformat_minor": 5
}
